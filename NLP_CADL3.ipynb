{
  "nbformat": 4,
  "nbformat_minor": 0,
  "metadata": {
    "colab": {
      "provenance": [],
      "authorship_tag": "ABX9TyMYy7o+3LGWlh1bVDcjrZQO",
      "include_colab_link": true
    },
    "kernelspec": {
      "name": "python3",
      "display_name": "Python 3"
    },
    "language_info": {
      "name": "python"
    }
  },
  "cells": [
    {
      "cell_type": "markdown",
      "metadata": {
        "id": "view-in-github",
        "colab_type": "text"
      },
      "source": [
        "<a href=\"https://colab.research.google.com/github/jeffy-sajan/NLP-task/blob/main/NLP_CADL3.ipynb\" target=\"_parent\"><img src=\"https://colab.research.google.com/assets/colab-badge.svg\" alt=\"Open In Colab\"/></a>"
      ]
    },
    {
      "cell_type": "markdown",
      "source": [
        "## **CADL3** - Named Entities and Structured Information"
      ],
      "metadata": {
        "id": "zwE4xBFxFB4T"
      }
    },
    {
      "cell_type": "code",
      "execution_count": 8,
      "metadata": {
        "colab": {
          "base_uri": "https://localhost:8080/"
        },
        "id": "pBV0wXFOE9BG",
        "outputId": "9b38cc5e-e428-44e3-deb2-f2f9c4c9c36b"
      },
      "outputs": [
        {
          "output_type": "stream",
          "name": "stdout",
          "text": [
            "Named Entities\n",
            "John Doe PERSON\n",
            "2023 DATE\n",
            "Alice Johnson PERSON\n",
            "Stanford University ORG\n",
            "Amazon ORG\n",
            "Mark Spencer PERSON\n",
            "AI Research ORG\n",
            "IBM ORG\n",
            "Michael Jordan PERSON\n",
            "UC Berkeley ORG\n",
            "\n",
            "Structured Info:\n",
            "                 Entity    Type\n",
            "0             John Doe  PERSON\n",
            "1                 2023    DATE\n",
            "2        Alice Johnson  PERSON\n",
            "3  Stanford University     ORG\n",
            "4               Amazon     ORG\n",
            "5         Mark Spencer  PERSON\n",
            "6          AI Research     ORG\n",
            "7                  IBM     ORG\n",
            "8       Michael Jordan  PERSON\n",
            "9          UC Berkeley     ORG\n"
          ]
        }
      ],
      "source": [
        "# CADL3: Named Entity Recognition\n",
        "import spacy\n",
        "import pandas as pd\n",
        "\n",
        "nlp = spacy.load(\"en_core_web_sm\")\n",
        "\n",
        "# Example dataset\n",
        "text = \"\"\"\n",
        "    \"Google hired John Doe as a software engineer in 2023.\",\n",
        "    \"Dr. Alice Johnson published a research paper with Stanford University.\",\n",
        "    \"Amazon appointed Mark Spencer as Vice President of AI Research.\",\n",
        "    \"IBM collaborated with Michael Jordan from UC Berkeley on a machine learning project.\"\n",
        "\"\"\"\n",
        "\n",
        "doc = nlp(text)\n",
        "\n",
        "# Extract named entities\n",
        "print(\"Named Entities\")\n",
        "for ent in doc.ents:\n",
        "    print(ent.text, ent.label_)\n",
        "\n",
        "# Structured Information (Persons and Organizations)\n",
        "entities = [(ent.text, ent.label_) for ent in doc.ents]\n",
        "df = pd.DataFrame(entities, columns=[\"Entity\", \"Type\"])\n",
        "print(\"\\nStructured Info:\\n\", df)\n"
      ]
    }
  ]
}