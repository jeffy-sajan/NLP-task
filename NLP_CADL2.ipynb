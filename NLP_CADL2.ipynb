{
  "nbformat": 4,
  "nbformat_minor": 0,
  "metadata": {
    "colab": {
      "provenance": [],
      "authorship_tag": "ABX9TyPMZ6lhVITLavGe1OIuG07l",
      "include_colab_link": true
    },
    "kernelspec": {
      "name": "python3",
      "display_name": "Python 3"
    },
    "language_info": {
      "name": "python"
    }
  },
  "cells": [
    {
      "cell_type": "markdown",
      "metadata": {
        "id": "view-in-github",
        "colab_type": "text"
      },
      "source": [
        "<a href=\"https://colab.research.google.com/github/jeffy-sajan/NLP-task/blob/main/NLP_CADL2.ipynb\" target=\"_parent\"><img src=\"https://colab.research.google.com/assets/colab-badge.svg\" alt=\"Open In Colab\"/></a>"
      ]
    },
    {
      "cell_type": "markdown",
      "source": [
        "# **CADL2**"
      ],
      "metadata": {
        "id": "LZWO6JGBGvYw"
      }
    },
    {
      "cell_type": "code",
      "source": [
        "# CADL2 - Feature Extraction: Bag of Words & TF-IDF\n",
        "import pandas as pd\n",
        "from sklearn.feature_extraction.text import CountVectorizer, TfidfVectorizer\n",
        "\n",
        "#  Step 1: Sample dataset\n",
        "docs = [\n",
        "    \"The movie was fantastic and I loved it\",\n",
        "    \"The movie was terrible and I hated it\",\n",
        "    \"It was an average movie, not too good but not too bad\",\n",
        "    \"Absolutely fantastic acting and story!\",\n",
        "    \"The film was boring and too long\"\n",
        "]\n",
        "\n",
        "# Step 2: Bag of Words\n",
        "print(\"Bag of Words Representation\")\n",
        "bow_vectorizer = CountVectorizer()\n",
        "X_bow = bow_vectorizer.fit_transform(docs)\n",
        "bow_df = pd.DataFrame(X_bow.toarray(), columns=bow_vectorizer.get_feature_names_out())\n",
        "print(bow_df)\n",
        "\n",
        "# Step 3: TF-IDF\n",
        "print(\"\\n TF-IDF Representation\")\n",
        "tfidf_vectorizer = TfidfVectorizer()\n",
        "X_tfidf = tfidf_vectorizer.fit_transform(docs)\n",
        "tfidf_df = pd.DataFrame(X_tfidf.toarray(), columns=tfidf_vectorizer.get_feature_names_out())\n",
        "print(tfidf_df.round(2))  # round for readability\n"
      ],
      "metadata": {
        "colab": {
          "base_uri": "https://localhost:8080/"
        },
        "id": "UUMxr6n6G1v5",
        "outputId": "8609a581-3d00-4fb0-cb2e-7ef2b7585a36"
      },
      "execution_count": 8,
      "outputs": [
        {
          "output_type": "stream",
          "name": "stdout",
          "text": [
            "Bag of Words Representation\n",
            "   absolutely  acting  an  and  average  bad  boring  but  fantastic  film  \\\n",
            "0           0       0   0    1        0    0       0    0          1     0   \n",
            "1           0       0   0    1        0    0       0    0          0     0   \n",
            "2           0       0   1    0        1    1       0    1          0     0   \n",
            "3           1       1   0    1        0    0       0    0          1     0   \n",
            "4           0       0   0    1        0    0       1    0          0     1   \n",
            "\n",
            "   ...  it  long  loved  movie  not  story  terrible  the  too  was  \n",
            "0  ...   1     0      1      1    0      0         0    1    0    1  \n",
            "1  ...   1     0      0      1    0      0         1    1    0    1  \n",
            "2  ...   1     0      0      1    2      0         0    0    2    1  \n",
            "3  ...   0     0      0      0    0      1         0    0    0    0  \n",
            "4  ...   0     1      0      0    0      0         0    1    1    1  \n",
            "\n",
            "[5 rows x 22 columns]\n",
            "\n",
            " TF-IDF Representation\n",
            "   absolutely  acting    an   and  average   bad  boring   but  fantastic  \\\n",
            "0         0.0     0.0  0.00  0.30     0.00  0.00    0.00  0.00       0.42   \n",
            "1         0.0     0.0  0.00  0.28     0.00  0.00    0.00  0.00       0.00   \n",
            "2         0.0     0.0  0.28  0.00     0.28  0.28    0.00  0.28       0.00   \n",
            "3         0.5     0.5  0.00  0.28     0.00  0.00    0.00  0.00       0.41   \n",
            "4         0.0     0.0  0.00  0.26     0.00  0.00    0.46  0.00       0.00   \n",
            "\n",
            "   film  ...    it  long  loved  movie   not  story  terrible   the   too  \\\n",
            "0  0.00  ...  0.35  0.00   0.52   0.35  0.00    0.0       0.0  0.35  0.00   \n",
            "1  0.00  ...  0.34  0.00   0.00   0.34  0.00    0.0       0.5  0.34  0.00   \n",
            "2  0.00  ...  0.19  0.00   0.00   0.19  0.56    0.0       0.0  0.00  0.45   \n",
            "3  0.00  ...  0.00  0.00   0.00   0.00  0.00    0.5       0.0  0.00  0.00   \n",
            "4  0.46  ...  0.00  0.46   0.00   0.00  0.00    0.0       0.0  0.31  0.37   \n",
            "\n",
            "    was  \n",
            "0  0.30  \n",
            "1  0.28  \n",
            "2  0.16  \n",
            "3  0.00  \n",
            "4  0.26  \n",
            "\n",
            "[5 rows x 22 columns]\n"
          ]
        }
      ]
    }
  ]
}